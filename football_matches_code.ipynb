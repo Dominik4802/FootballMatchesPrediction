{
 "cells": [
  {
   "cell_type": "markdown",
   "metadata": {},
   "source": [
    "# Importing libraries"
   ]
  },
  {
   "cell_type": "code",
   "execution_count": 1,
   "metadata": {},
   "outputs": [],
   "source": [
    "import numpy as np\n",
    "import pandas as pd\n",
    "from datetime import datetime as dt\n",
    "import itertools\n",
    "import sqlite3\n",
    "from datetime import date\n",
    "from datetime import datetime"
   ]
  },
  {
   "cell_type": "markdown",
   "metadata": {},
   "source": [
    "# Data Collection"
   ]
  },
  {
   "cell_type": "code",
   "execution_count": 2,
   "metadata": {},
   "outputs": [],
   "source": [
    "loc = \"C:/Users/domin/Desktop/DE/.SEM 4/Artificial Inteligence/\""
   ]
  },
  {
   "cell_type": "code",
   "execution_count": 3,
   "metadata": {},
   "outputs": [],
   "source": [
    "con = sqlite3.connect(loc + \"database.sqlite\")\n",
    "df_country = pd.read_sql_query(\"SELECT * from country\", con)\n",
    "df_league = pd.read_sql_query(\"SELECT * from league\", con)\n",
    "df_match = pd.read_sql_query(\"SELECT * from match\", con)\n",
    "df_player = pd.read_sql_query(\"SELECT * from player\", con)\n",
    "df_player_attributes = pd.read_sql_query(\"SELECT * from player_attributes\", con)\n",
    "df_team = pd.read_sql_query(\"SELECT * from team\", con)\n",
    "df_team_attributes = pd.read_sql_query(\"SELECT * from team_attributes\", con)\n",
    "con.close()"
   ]
  },
  {
   "cell_type": "markdown",
   "metadata": {},
   "source": [
    "# Data Preparation and Data Visualisation"
   ]
  },
  {
   "cell_type": "code",
   "execution_count": 4,
   "metadata": {},
   "outputs": [],
   "source": [
    "# Selecting the Spanish Football League (La Liga)\n",
    "df_match=df_match[df_match['league_id'] == 21518]\n",
    "\n",
    "# While taking several leagues we received significantly worse results, which indicates that every league has its own\n",
    "# characteristic and we should train our model based on only one league so that the predictions are more consistent"
   ]
  },
  {
   "cell_type": "code",
   "execution_count": 5,
   "metadata": {},
   "outputs": [],
   "source": [
    "# Function calculating difference between two dates, returning difference in number of days\n",
    "def day_difference(d2,d1):\n",
    "    d1 = datetime.strptime(d1,'%Y-%m-%d %H:%M:%S')\n",
    "    d2 = datetime.strptime(d2, '%Y-%m-%d %H:%M:%S')\n",
    "    return abs((d2 - d1).days)"
   ]
  },
  {
   "cell_type": "code",
   "execution_count": 6,
   "metadata": {},
   "outputs": [],
   "source": [
    "# Defining our target dataframe which will contain data about all the matches within Spanish Football League \n",
    "# and all the attributes connected with those matches\n",
    "all=pd.DataFrame"
   ]
  },
  {
   "cell_type": "code",
   "execution_count": 7,
   "metadata": {},
   "outputs": [],
   "source": [
    "# Assigning additional attributes containing additional information about matches and the most recent FIFA attributes \n",
    "# to the teams participating in a particular match based on a date of the match\n",
    "def add_relevant_attributes(merged_df, home_or_away):\n",
    "    if merged_df.empty:\n",
    "        merged_df=pd.merge(df_match,df_team.add_suffix('_' + home_or_away), left_on=home_or_away + '_team_api_id', right_on='team_api_id_' + home_or_away, how='left')\n",
    "    else:\n",
    "        merged_df=pd.merge(merged_df,df_team.add_suffix('_' + home_or_away), left_on=home_or_away + '_team_api_id', right_on='team_api_id_' + home_or_away, how='left')\n",
    "        \n",
    "    merged_df=pd.merge(merged_df,df_team_attributes.add_suffix('_' + home_or_away), on='team_api_id_' + home_or_away, how='left')\n",
    "\n",
    "    id_zero = merged_df[\"id\"][0]\n",
    "    diff_min = day_difference(merged_df[\"date\"][0],merged_df[\"date_\" + home_or_away][0])\n",
    "    index_min = 0\n",
    "    temp_indexes = []\n",
    "    for i in range(merged_df.shape[0]):\n",
    "        if (merged_df[\"id\"][i] == id_zero):\n",
    "            diff_tmp = day_difference(merged_df[\"date\"][i],merged_df[\"date_\" + home_or_away][i])\n",
    "            if (diff_min > diff_tmp):\n",
    "                index_min = i\n",
    "                diff_min = diff_tmp\n",
    "        else:\n",
    "            temp_indexes.append(index_min)\n",
    "            id_zero = merged_df[\"id\"][i]\n",
    "            index_min = i\n",
    "            diff_min = day_difference(merged_df[\"date\"][i],merged_df[\"date_\" + home_or_away][i])\n",
    "    temp_indexes.append(index_min)\n",
    "\n",
    "    df=merged_df.loc[temp_indexes]\n",
    "    return df"
   ]
  },
  {
   "cell_type": "code",
   "execution_count": 8,
   "metadata": {},
   "outputs": [],
   "source": [
    "# Adding attributes to home team and away team\n",
    "all = add_relevant_attributes(all, 'home')\n",
    "all = add_relevant_attributes(all, 'away')"
   ]
  },
  {
   "cell_type": "code",
   "execution_count": 9,
   "metadata": {},
   "outputs": [],
   "source": [
    "# Converting season into number \n",
    "all['season'] = pd.factorize(all.season)[0]\n",
    "\n",
    "# Taking bets into account (average from available companies which made a bet on a given match)\n",
    "H=['B365H', 'BWH', 'IWH', 'LBH', 'PSH', 'WHH', 'SJH','VCH','GBH','BSH']\n",
    "all['BetsH']=all[H].mean(axis=1, skipna = True)\n",
    "D=['B365D', 'BWD', 'IWD', 'LBD', 'PSD', 'WHD', 'SJD','VCD','GBD','BSD']\n",
    "all['BetsD']=all[D].mean(axis=1, skipna = True)\n",
    "A=['B365A', 'BWA', 'IWA', 'LBA', 'PSA', 'WHA', 'SJA','VCA','GBA','BSA']\n",
    "all['BetsA']=all[A].mean(axis=1, skipna = True)\n",
    "\n",
    "# If none of the companies bets on this match we take an average\n",
    "all['BetsH']=all['BetsH'].fillna(all['BetsH'].mean())\n",
    "all['BetsD']=all['BetsD'].fillna(all['BetsD'].mean())\n",
    "all['BetsA']=all['BetsA'].fillna(all['BetsA'].mean())\n",
    "\n",
    "# Resetting dataframe indexing\n",
    "all.index = np.arange(1, len(all) + 1)"
   ]
  },
  {
   "cell_type": "code",
   "execution_count": 10,
   "metadata": {},
   "outputs": [],
   "source": [
    "# Adding 'Result' column containing information about win, draw or defeat of a home team\n",
    "conditions = [\n",
    "    all['home_team_goal'] > all['away_team_goal'], \n",
    "    all['home_team_goal'] < all['away_team_goal']]\n",
    "\n",
    "choices = ['Win', 'Defeat']\n",
    "\n",
    "all['result'] = np.select(conditions, choices, default='Draw')"
   ]
  },
  {
   "cell_type": "code",
   "execution_count": 11,
   "metadata": {},
   "outputs": [
    {
     "data": {
      "text/plain": [
       "([<matplotlib.patches.Wedge at 0x21d57507688>,\n",
       "  <matplotlib.patches.Wedge at 0x21d57519248>,\n",
       "  <matplotlib.patches.Wedge at 0x21d575260c8>],\n",
       " [Text(0.039777894203867105, 1.0992805461449349, 'Win'),\n",
       "  Text(-0.7607555574016516, -0.7945130470184254, 'Defeat'),\n",
       "  Text(0.8215036275663801, -0.7315270260867184, 'Draw')],\n",
       " [Text(0.02169703320210933, 0.5996075706245099, '48.8%'),\n",
       "  Text(-0.41495757676453715, -0.43337075291914107, '28.0%'),\n",
       "  Text(0.44809288776348, -0.39901474150184635, '23.2%')])"
      ]
     },
     "execution_count": 11,
     "metadata": {},
     "output_type": "execute_result"
    },
    {
     "data": {
      "image/png": "[encoded data removed]",
      "text/plain": [
       "<Figure size 432x288 with 1 Axes>"
      ]
     },
     "metadata": {},
     "output_type": "display_data"
    }
   ],
   "source": [
    "# Visualizing percantage of matches the home team won, lost and drew\n",
    "import matplotlib.pyplot as plt\n",
    "\n",
    "occurences = all['result'].value_counts()\n",
    "plt.pie(occurences, labels = ['Win', 'Defeat', 'Draw'], autopct='%1.1f%%')\n",
    "\n",
    "# We are aware that our dataset is not balanced y_test"
   ]
  },
  {
   "cell_type": "code",
   "execution_count": 12,
   "metadata": {},
   "outputs": [],
   "source": [
    "# Assigning points to each team based on x last matches played by each team \n",
    "# (3 points for every win, 1 for every draw, 0 for every defeat)\n",
    "def points_of_last_three_matches(match,matches,home_or_away_team,x = 3):\n",
    "\n",
    "    date=match.date\n",
    "    team=match[home_or_away_team]\n",
    "\n",
    "    # Filter team matches from matches\n",
    "    team_matches = matches[(matches['home_team_api_id'] == team) | (matches['away_team_api_id'] == team)]\n",
    "\n",
    "    # Filter x last matches from team matches\n",
    "    last_matches = team_matches[team_matches.date < date].sort_values(by = 'date', ascending = False).iloc[0:x,:]\n",
    "    points=0\n",
    "\n",
    "    # Calculating points based on the result\n",
    "    if (home_or_away_team=='home_team_api_id'):\n",
    "        for i, rows in last_matches.iterrows():\n",
    "            if (last_matches['result'][i] == 'Win'):\n",
    "                points += 3\n",
    "            elif (last_matches['result'][i] == 'Draw'):\n",
    "                points += 1\n",
    "    else:\n",
    "        for i, rows in last_matches.iterrows():\n",
    "            if (last_matches['result'][i] == 'Defeat'):\n",
    "                points += 3\n",
    "            elif (last_matches['result'][i] == 'Draw'):\n",
    "                points += 1\n",
    "\n",
    "    return points"
   ]
  },
  {
   "cell_type": "code",
   "execution_count": 13,
   "metadata": {},
   "outputs": [],
   "source": [
    "# Assigning points to home team and away team\n",
    "all['points_home_team'] = all.apply(lambda x: points_of_last_three_matches(x, all, 'home_team_api_id'), axis = 1)\n",
    "all['points_away_team'] = all.apply(lambda x: points_of_last_three_matches(x, all, 'away_team_api_id'), axis = 1)"
   ]
  },
  {
   "cell_type": "code",
   "execution_count": 14,
   "metadata": {},
   "outputs": [],
   "source": [
    "# Calculating points (3 for a win, 1 for a draw and 0 for a defeat) with respect to the home team based on the results\n",
    "# of the latest two matches of this particular team being a home team playing against this opponent and two as an away \n",
    "# team playing against this opponent\n",
    "\n",
    "def last_matches_against_each_other(matches, date, home_team, away_team, x = 2):\n",
    "    \n",
    "    # Intializing variables for a home team and away team\n",
    "    last_home_result = 0\n",
    "    last_away_result = 0\n",
    "    \n",
    "    # Finding matches of both teams when the home team was also a home team during that match\n",
    "    home_matches = matches[(matches['home_team_api_id'] == home_team) & (matches['away_team_api_id'] == away_team)]\n",
    "    \n",
    "    # Sorting matches based on date\n",
    "    last_home_matches = home_matches[home_matches.date < date].sort_values(by = 'date', ascending = False).iloc[0:x,:]\n",
    "    \n",
    "    # Resetting indexing\n",
    "    last_home_matches.index = np.arange(1, len(last_home_matches) + 1)\n",
    "    \n",
    "    # Calculating points to 'last_home_result' variable\n",
    "    for i, rows in last_home_matches.iterrows():\n",
    "        if (last_home_matches['home_team_goal'][i] > last_home_matches['away_team_goal'][i]):\n",
    "            last_home_result = last_home_result + 3\n",
    "        elif (last_home_matches['home_team_goal'][i] < last_home_matches['away_team_goal'][i]):\n",
    "            last_home_result = last_home_result\n",
    "        else:\n",
    "            last_home_result = last_home_result + 1\n",
    "        \n",
    "    # In case of no historical matches in dataset we assign the calculated weighted average number of points scored\n",
    "    # by home team in a single match multiplied by a number of matches\n",
    "    if last_home_matches.empty:\n",
    "        last_home_result = (0.488*3 + 0.232*1) * x\n",
    "    \n",
    "    # Finding matches of both teams when the home team was an away team during that match\n",
    "    away_matches = matches[(matches['home_team_api_id'] == away_team) & (matches['away_team_api_id'] == home_team)]  \n",
    "    \n",
    "    # Sorting matches based on date\n",
    "    last_away_matches = away_matches[away_matches.date < date].sort_values(by = 'date', ascending = False).iloc[0:x,:]\n",
    "    \n",
    "    # Resetting indexing\n",
    "    last_away_matches.index = np.arange(1, len(last_away_matches) + 1)\n",
    "    \n",
    "    # Calculating points to 'last_away_result' variable\n",
    "    for i, rows in last_away_matches.iterrows():\n",
    "        if (last_away_matches['home_team_goal'][i] > last_away_matches['away_team_goal'][i]):\n",
    "            last_away_result= last_away_result\n",
    "        elif (last_away_matches['home_team_goal'][i] < last_away_matches['away_team_goal'][i]):\n",
    "            last_away_result = last_away_result + 3\n",
    "        else:\n",
    "            last_away_result = last_away_result + 1\n",
    "        \n",
    "    # In case of no historical matches in dataset we assign the calculated weighted average number of points scored\n",
    "    # by away team in a single match multiplied by a number of matches\n",
    "    if last_away_matches.empty:\n",
    "        last_away_result = (0.28*3 + 0.232*1) * x\n",
    "            \n",
    "    return last_home_result,last_away_result"
   ]
  },
  {
   "cell_type": "code",
   "execution_count": 15,
   "metadata": {},
   "outputs": [],
   "source": [
    "# Finding last matches of two teams participating within the whole dataframe and assigining the results to 'points' variable\n",
    "points=all.apply(lambda x: last_matches_against_each_other(all,x.date,x.home_team_api_id,x.away_team_api_id), axis = 1)\n",
    "\n",
    "# Adding columns 'last_home_meetings' and 'last_away_meetings' and assgining values \n",
    "all['last_home_meetings'] = list(list(zip(*points))[0])\n",
    "all['last_away_meetings'] = list(list(zip(*points))[1])"
   ]
  },
  {
   "cell_type": "code",
   "execution_count": 16,
   "metadata": {},
   "outputs": [],
   "source": [
    "# Sorting matches by date in order not to predict matches based on ones that did not took place yet\n",
    "# Example: We don't want to predict match of 2010 based on statistics of match of 2016\n",
    "all=all.sort_values('date')"
   ]
  },
  {
   "cell_type": "code",
   "execution_count": 17,
   "metadata": {},
   "outputs": [],
   "source": [
    "from sklearn.linear_model import LogisticRegression\n",
    "from pandas.plotting import scatter_matrix"
   ]
  },
  {
   "cell_type": "code",
   "execution_count": 18,
   "metadata": {},
   "outputs": [
    {
     "data": {
      "image/png": "[encoded data removed]",
      "text/plain": [
       "<Figure size 432x288 with 2 Axes>"
      ]
     },
     "metadata": {
      "needs_background": "light"
     },
     "output_type": "display_data"
    }
   ],
   "source": [
    "import seaborn as sn\n",
    "import matplotlib.pyplot as plt\n",
    "\n",
    "# Creating heatmap illustrating correlations between FIFA attributes of home team\n",
    "corrMatrix = all[['buildUpPlaySpeed_home', 'buildUpPlayPassing_home', 'chanceCreationPassing_home', \n",
    "             'chanceCreationCrossing_home', 'defencePressure_home', 'defenceAggression_home',\n",
    "             'defenceTeamWidth_home', 'chanceCreationShooting_home']].corr()\n",
    "sn.heatmap(corrMatrix, annot=True)\n",
    "plt.show()"
   ]
  },
  {
   "cell_type": "code",
   "execution_count": 19,
   "metadata": {},
   "outputs": [
    {
     "data": {
      "image/png": "[encoded data removed]",
      "text/plain": [
       "<Figure size 432x288 with 2 Axes>"
      ]
     },
     "metadata": {
      "needs_background": "light"
     },
     "output_type": "display_data"
    }
   ],
   "source": [
    "# Creating heatmap illustrating correlations between FIFA attributes of away team\n",
    "corrMatrix = all[['buildUpPlaySpeed_away', 'buildUpPlayPassing_away', 'chanceCreationPassing_away', \n",
    "             'chanceCreationCrossing_away','defencePressure_away', 'defenceAggression_away', \n",
    "             'defenceTeamWidth_away','chanceCreationShooting_away']].corr()\n",
    "\n",
    "sn.heatmap(corrMatrix, annot=True)\n",
    "plt.show()"
   ]
  },
  {
   "cell_type": "code",
   "execution_count": 20,
   "metadata": {},
   "outputs": [
    {
     "name": "stdout",
     "output_type": "stream",
     "text": [
      "The shape of our features is: (3040, 181)\n"
     ]
    }
   ],
   "source": [
    "print('The shape of our features is:', all.shape)"
   ]
  },
  {
   "cell_type": "code",
   "execution_count": 21,
   "metadata": {},
   "outputs": [],
   "source": [
    "# Choosing features we want to focus on while training our models and making predictions\n",
    "\n",
    "variables = ['season','buildUpPlaySpeed_away', 'buildUpPlayPassing_away', 'chanceCreationPassing_away', \n",
    "             'chanceCreationCrossing_away','defencePressure_away', 'defenceAggression_away', \n",
    "             'defenceTeamWidth_away','chanceCreationShooting_away','buildUpPlaySpeed_home', 'buildUpPlayPassing_home',\n",
    "             'chanceCreationPassing_home', 'chanceCreationCrossing_home', 'defencePressure_home',\n",
    "             'defenceAggression_home','defenceTeamWidth_home', 'chanceCreationShooting_home','points_home_team',\n",
    "             'points_away_team', 'last_home_meetings', 'last_away_meetings','BetsH','BetsD','BetsA']\n",
    "\n",
    "# buildUpPlaySpeed_home - FIFA team attribute given as an integer (the bigger, the better)\n",
    "# buildUpPlayPassing_home - FIFA team attribute given as an integer (the bigger, the better)\n",
    "# chanceCreationPassing_home - FIFA team attribute given as an integer (the bigger, the better)\n",
    "# chanceCreationCrossing_home - FIFA team attribute given as an integer (the bigger, the better)\n",
    "# defencePressure_home - FIFA team attribute given as an integer (the bigger, the better)\n",
    "# defenceAggression_home - FIFA team attribute given as an integer (the bigger, the better)\n",
    "# defenceTeamWidth_home - FIFA team attribute given as an integer (the bigger, the better)\n",
    "# chanceCreationShooting_home - FIFA team attribute given as an integer (the bigger, the better)\n",
    "# all the above analogically for the away team\n",
    "# season - season the match was played in, values (2008/2009 - 2015/2016)\n",
    "# points_home_team - points the team participating in a match as a home team obtained in its last 3 matches within \n",
    "#the league before the date of the match (points calculated by crediting 3 points for a win, 1 for a draw and 0 for a defeat)\n",
    "# last_home_meetings - points the team participating in a match as a home team obtained in its last 4 last matches \n",
    "# (2 as a home team, 2 as an away team) within the league before the date of the match with the same opponent as in \n",
    "#the considerated match (points calculated by crediting 3 points for a win, 1 for a draw and 0 for a defeat)\n",
    "# BetsH - mean of the odds in decimal format for a home team win of all available data of betting sites such as Bet365, BWin, LadBrokes, William Hill and others\n",
    "# BetsD - mean of the odds in decimal format for a draw of all available data of betting sites such as Bet365, BWin, LadBrokes, William Hill and others\n",
    "# BetsA - mean of the odds in decimal format for an away team win of all available data of betting sites such as Bet365, BWin, LadBrokes, William Hill and others\n",
    "\n",
    "# Dividing data into variables we will train our models on and our target data\n",
    "X_all = all[variables]\n",
    "y_all = all['result']"
   ]
  },
  {
   "cell_type": "code",
   "execution_count": 22,
   "metadata": {},
   "outputs": [
    {
     "data": {
      "text/html": [
       "<div>\n",
       "<style scoped>\n",
       "    .dataframe tbody tr th:only-of-type {\n",
       "        vertical-align: middle;\n",
       "    }\n",
       "\n",
       "    .dataframe tbody tr th {\n",
       "        vertical-align: top;\n",
       "    }\n",
       "\n",
       "    .dataframe thead th {\n",
       "        text-align: right;\n",
       "    }\n",
       "</style>\n",
       "<table border=\"1\" class=\"dataframe\">\n",
       "  <thead>\n",
       "    <tr style=\"text-align: right;\">\n",
       "      <th></th>\n",
       "      <th>season</th>\n",
       "      <th>buildUpPlaySpeed_away</th>\n",
       "      <th>buildUpPlayPassing_away</th>\n",
       "      <th>chanceCreationPassing_away</th>\n",
       "      <th>chanceCreationCrossing_away</th>\n",
       "      <th>defencePressure_away</th>\n",
       "      <th>defenceAggression_away</th>\n",
       "      <th>defenceTeamWidth_away</th>\n",
       "      <th>chanceCreationShooting_away</th>\n",
       "      <th>buildUpPlaySpeed_home</th>\n",
       "      <th>...</th>\n",
       "      <th>defenceAggression_home</th>\n",
       "      <th>defenceTeamWidth_home</th>\n",
       "      <th>chanceCreationShooting_home</th>\n",
       "      <th>points_home_team</th>\n",
       "      <th>points_away_team</th>\n",
       "      <th>last_home_meetings</th>\n",
       "      <th>last_away_meetings</th>\n",
       "      <th>BetsH</th>\n",
       "      <th>BetsD</th>\n",
       "      <th>BetsA</th>\n",
       "    </tr>\n",
       "  </thead>\n",
       "  <tbody>\n",
       "    <tr>\n",
       "      <th>count</th>\n",
       "      <td>3040.000000</td>\n",
       "      <td>3040.000000</td>\n",
       "      <td>3040.000000</td>\n",
       "      <td>3040.000000</td>\n",
       "      <td>3040.000000</td>\n",
       "      <td>3040.000000</td>\n",
       "      <td>3040.000000</td>\n",
       "      <td>3040.000000</td>\n",
       "      <td>3040.000000</td>\n",
       "      <td>3040.000000</td>\n",
       "      <td>...</td>\n",
       "      <td>3040.000000</td>\n",
       "      <td>3040.000000</td>\n",
       "      <td>3040.000000</td>\n",
       "      <td>3040.000000</td>\n",
       "      <td>3040.000000</td>\n",
       "      <td>3040.000000</td>\n",
       "      <td>3040.000000</td>\n",
       "      <td>3040.000000</td>\n",
       "      <td>3040.000000</td>\n",
       "      <td>3040.000000</td>\n",
       "    </tr>\n",
       "    <tr>\n",
       "      <th>mean</th>\n",
       "      <td>3.500000</td>\n",
       "      <td>47.386842</td>\n",
       "      <td>44.094737</td>\n",
       "      <td>54.026316</td>\n",
       "      <td>54.077961</td>\n",
       "      <td>49.383224</td>\n",
       "      <td>49.788816</td>\n",
       "      <td>55.742105</td>\n",
       "      <td>56.113158</td>\n",
       "      <td>47.369079</td>\n",
       "      <td>...</td>\n",
       "      <td>49.791118</td>\n",
       "      <td>55.726645</td>\n",
       "      <td>56.112171</td>\n",
       "      <td>5.047368</td>\n",
       "      <td>3.191776</td>\n",
       "      <td>3.073574</td>\n",
       "      <td>1.906653</td>\n",
       "      <td>2.737371</td>\n",
       "      <td>4.104879</td>\n",
       "      <td>5.143389</td>\n",
       "    </tr>\n",
       "    <tr>\n",
       "      <th>std</th>\n",
       "      <td>2.291665</td>\n",
       "      <td>12.217739</td>\n",
       "      <td>10.971091</td>\n",
       "      <td>11.203785</td>\n",
       "      <td>11.617697</td>\n",
       "      <td>10.423076</td>\n",
       "      <td>9.943381</td>\n",
       "      <td>9.346847</td>\n",
       "      <td>10.159651</td>\n",
       "      <td>12.243578</td>\n",
       "      <td>...</td>\n",
       "      <td>9.950922</td>\n",
       "      <td>9.352584</td>\n",
       "      <td>10.155986</td>\n",
       "      <td>2.240198</td>\n",
       "      <td>2.130120</td>\n",
       "      <td>1.733913</td>\n",
       "      <td>1.749607</td>\n",
       "      <td>2.405188</td>\n",
       "      <td>1.725697</td>\n",
       "      <td>5.136625</td>\n",
       "    </tr>\n",
       "    <tr>\n",
       "      <th>min</th>\n",
       "      <td>0.000000</td>\n",
       "      <td>20.000000</td>\n",
       "      <td>23.000000</td>\n",
       "      <td>30.000000</td>\n",
       "      <td>24.000000</td>\n",
       "      <td>30.000000</td>\n",
       "      <td>30.000000</td>\n",
       "      <td>30.000000</td>\n",
       "      <td>35.000000</td>\n",
       "      <td>20.000000</td>\n",
       "      <td>...</td>\n",
       "      <td>30.000000</td>\n",
       "      <td>30.000000</td>\n",
       "      <td>35.000000</td>\n",
       "      <td>0.000000</td>\n",
       "      <td>0.000000</td>\n",
       "      <td>0.000000</td>\n",
       "      <td>0.000000</td>\n",
       "      <td>1.041429</td>\n",
       "      <td>2.443333</td>\n",
       "      <td>1.090000</td>\n",
       "    </tr>\n",
       "    <tr>\n",
       "      <th>25%</th>\n",
       "      <td>1.750000</td>\n",
       "      <td>38.000000</td>\n",
       "      <td>36.000000</td>\n",
       "      <td>45.000000</td>\n",
       "      <td>45.000000</td>\n",
       "      <td>42.000000</td>\n",
       "      <td>42.000000</td>\n",
       "      <td>50.000000</td>\n",
       "      <td>50.000000</td>\n",
       "      <td>38.000000</td>\n",
       "      <td>...</td>\n",
       "      <td>42.000000</td>\n",
       "      <td>50.000000</td>\n",
       "      <td>50.000000</td>\n",
       "      <td>3.000000</td>\n",
       "      <td>1.000000</td>\n",
       "      <td>2.000000</td>\n",
       "      <td>0.000000</td>\n",
       "      <td>1.654861</td>\n",
       "      <td>3.283333</td>\n",
       "      <td>2.639722</td>\n",
       "    </tr>\n",
       "    <tr>\n",
       "      <th>50%</th>\n",
       "      <td>3.500000</td>\n",
       "      <td>50.000000</td>\n",
       "      <td>43.000000</td>\n",
       "      <td>55.000000</td>\n",
       "      <td>55.000000</td>\n",
       "      <td>49.000000</td>\n",
       "      <td>50.000000</td>\n",
       "      <td>56.000000</td>\n",
       "      <td>55.000000</td>\n",
       "      <td>50.000000</td>\n",
       "      <td>...</td>\n",
       "      <td>50.000000</td>\n",
       "      <td>56.000000</td>\n",
       "      <td>55.000000</td>\n",
       "      <td>5.000000</td>\n",
       "      <td>3.000000</td>\n",
       "      <td>3.392000</td>\n",
       "      <td>2.000000</td>\n",
       "      <td>2.065357</td>\n",
       "      <td>3.427778</td>\n",
       "      <td>3.566667</td>\n",
       "    </tr>\n",
       "    <tr>\n",
       "      <th>75%</th>\n",
       "      <td>5.250000</td>\n",
       "      <td>55.000000</td>\n",
       "      <td>53.000000</td>\n",
       "      <td>61.000000</td>\n",
       "      <td>61.000000</td>\n",
       "      <td>58.000000</td>\n",
       "      <td>56.000000</td>\n",
       "      <td>64.000000</td>\n",
       "      <td>65.000000</td>\n",
       "      <td>55.000000</td>\n",
       "      <td>...</td>\n",
       "      <td>56.000000</td>\n",
       "      <td>64.000000</td>\n",
       "      <td>65.000000</td>\n",
       "      <td>7.000000</td>\n",
       "      <td>4.000000</td>\n",
       "      <td>3.392000</td>\n",
       "      <td>3.000000</td>\n",
       "      <td>2.650278</td>\n",
       "      <td>4.059722</td>\n",
       "      <td>5.262321</td>\n",
       "    </tr>\n",
       "    <tr>\n",
       "      <th>max</th>\n",
       "      <td>7.000000</td>\n",
       "      <td>70.000000</td>\n",
       "      <td>73.000000</td>\n",
       "      <td>73.000000</td>\n",
       "      <td>78.000000</td>\n",
       "      <td>70.000000</td>\n",
       "      <td>70.000000</td>\n",
       "      <td>70.000000</td>\n",
       "      <td>79.000000</td>\n",
       "      <td>70.000000</td>\n",
       "      <td>...</td>\n",
       "      <td>70.000000</td>\n",
       "      <td>70.000000</td>\n",
       "      <td>79.000000</td>\n",
       "      <td>9.000000</td>\n",
       "      <td>9.000000</td>\n",
       "      <td>6.000000</td>\n",
       "      <td>6.000000</td>\n",
       "      <td>29.142857</td>\n",
       "      <td>19.214286</td>\n",
       "      <td>41.666667</td>\n",
       "    </tr>\n",
       "  </tbody>\n",
       "</table>\n",
       "<p>8 rows × 24 columns</p>\n",
       "</div>"
      ],
      "text/plain": [
       "            season  buildUpPlaySpeed_away  buildUpPlayPassing_away  \\\n",
       "count  3040.000000            3040.000000              3040.000000   \n",
       "mean      3.500000              47.386842                44.094737   \n",
       "std       2.291665              12.217739                10.971091   \n",
       "min       0.000000              20.000000                23.000000   \n",
       "25%       1.750000              38.000000                36.000000   \n",
       "50%       3.500000              50.000000                43.000000   \n",
       "75%       5.250000              55.000000                53.000000   \n",
       "max       7.000000              70.000000                73.000000   \n",
       "\n",
       "       chanceCreationPassing_away  chanceCreationCrossing_away  \\\n",
       "count                 3040.000000                  3040.000000   \n",
       "mean                    54.026316                    54.077961   \n",
       "std                     11.203785                    11.617697   \n",
       "min                     30.000000                    24.000000   \n",
       "25%                     45.000000                    45.000000   \n",
       "50%                     55.000000                    55.000000   \n",
       "75%                     61.000000                    61.000000   \n",
       "max                     73.000000                    78.000000   \n",
       "\n",
       "       defencePressure_away  defenceAggression_away  defenceTeamWidth_away  \\\n",
       "count           3040.000000             3040.000000            3040.000000   \n",
       "mean              49.383224               49.788816              55.742105   \n",
       "std               10.423076                9.943381               9.346847   \n",
       "min               30.000000               30.000000              30.000000   \n",
       "25%               42.000000               42.000000              50.000000   \n",
       "50%               49.000000               50.000000              56.000000   \n",
       "75%               58.000000               56.000000              64.000000   \n",
       "max               70.000000               70.000000              70.000000   \n",
       "\n",
       "       chanceCreationShooting_away  buildUpPlaySpeed_home  ...  \\\n",
       "count                  3040.000000            3040.000000  ...   \n",
       "mean                     56.113158              47.369079  ...   \n",
       "std                      10.159651              12.243578  ...   \n",
       "min                      35.000000              20.000000  ...   \n",
       "25%                      50.000000              38.000000  ...   \n",
       "50%                      55.000000              50.000000  ...   \n",
       "75%                      65.000000              55.000000  ...   \n",
       "max                      79.000000              70.000000  ...   \n",
       "\n",
       "       defenceAggression_home  defenceTeamWidth_home  \\\n",
       "count             3040.000000            3040.000000   \n",
       "mean                49.791118              55.726645   \n",
       "std                  9.950922               9.352584   \n",
       "min                 30.000000              30.000000   \n",
       "25%                 42.000000              50.000000   \n",
       "50%                 50.000000              56.000000   \n",
       "75%                 56.000000              64.000000   \n",
       "max                 70.000000              70.000000   \n",
       "\n",
       "       chanceCreationShooting_home  points_home_team  points_away_team  \\\n",
       "count                  3040.000000       3040.000000       3040.000000   \n",
       "mean                     56.112171          5.047368          3.191776   \n",
       "std                      10.155986          2.240198          2.130120   \n",
       "min                      35.000000          0.000000          0.000000   \n",
       "25%                      50.000000          3.000000          1.000000   \n",
       "50%                      55.000000          5.000000          3.000000   \n",
       "75%                      65.000000          7.000000          4.000000   \n",
       "max                      79.000000          9.000000          9.000000   \n",
       "\n",
       "       last_home_meetings  last_away_meetings        BetsH        BetsD  \\\n",
       "count         3040.000000         3040.000000  3040.000000  3040.000000   \n",
       "mean             3.073574            1.906653     2.737371     4.104879   \n",
       "std              1.733913            1.749607     2.405188     1.725697   \n",
       "min              0.000000            0.000000     1.041429     2.443333   \n",
       "25%              2.000000            0.000000     1.654861     3.283333   \n",
       "50%              3.392000            2.000000     2.065357     3.427778   \n",
       "75%              3.392000            3.000000     2.650278     4.059722   \n",
       "max              6.000000            6.000000    29.142857    19.214286   \n",
       "\n",
       "             BetsA  \n",
       "count  3040.000000  \n",
       "mean      5.143389  \n",
       "std       5.136625  \n",
       "min       1.090000  \n",
       "25%       2.639722  \n",
       "50%       3.566667  \n",
       "75%       5.262321  \n",
       "max      41.666667  \n",
       "\n",
       "[8 rows x 24 columns]"
      ]
     },
     "execution_count": 22,
     "metadata": {},
     "output_type": "execute_result"
    }
   ],
   "source": [
    "# Descriptive statistics for each column after concentrating on a specific number of columns\n",
    "X_all.describe()"
   ]
  },
  {
   "cell_type": "code",
   "execution_count": 23,
   "metadata": {},
   "outputs": [],
   "source": [
    "# Standardising the data\n",
    "from sklearn.preprocessing import scale\n",
    "\n",
    "# Center to the mean and component wise scale to unit variance\n",
    "# for col in [variables]:\n",
    "#     X_all[col] = scale(X_all[col])\n",
    "\n",
    "from sklearn.preprocessing import StandardScaler\n",
    "sc = StandardScaler()\n",
    "X_all = sc.fit_transform(X_all)\n",
    "# X_test = sc.transform (X_test)"
   ]
  },
  {
   "cell_type": "code",
   "execution_count": 24,
   "metadata": {},
   "outputs": [],
   "source": [
    "# Dividing data into training and test set taking 80% of prior data as a training set,\n",
    "# so that our models are tested based on matches that took place after matches from our training set\n",
    "X_train, X_test= np.split(X_all, [int(.9 *len(X_all))])\n",
    "y_train, y_test= np.split(y_all, [int(.9 *len(y_all))])\n",
    "\n",
    "# We noticed that we should predict at most one season ahead,  we splitted our data so that we predict only the outcomes\n",
    "#of matches which took place in 2016 (based on matches from 2015 and earlier)"
   ]
  },
  {
   "cell_type": "code",
   "execution_count": 25,
   "metadata": {},
   "outputs": [
    {
     "name": "stdout",
     "output_type": "stream",
     "text": [
      "Training Features Shape: (2736, 24)\n",
      "Training Labels Shape: (2736,)\n",
      "Testing Features Shape: (304, 24)\n",
      "Testing Labels Shape: (304,)\n"
     ]
    }
   ],
   "source": [
    "print('Training Features Shape:', X_train.shape)\n",
    "print('Training Labels Shape:', y_train.shape)\n",
    "print('Testing Features Shape:', X_test.shape)\n",
    "print('Testing Labels Shape:', y_test.shape)"
   ]
  },
  {
   "cell_type": "code",
   "execution_count": 26,
   "metadata": {},
   "outputs": [],
   "source": [
    "from time import time \n",
    "\n",
    "# Training the classifier and measuring its time\n",
    "def train_classifier(clf, X_train, y_train):\n",
    "    \n",
    "    # Starting the clock, training the classifier, then stoping the clock\n",
    "    start = time()\n",
    "    clf.fit(X_train, y_train)\n",
    "    end = time()\n",
    "    \n",
    "    # Printing the results\n",
    "    print (\"Trained model in seconds:\",end - start)"
   ]
  },
  {
   "cell_type": "code",
   "execution_count": 27,
   "metadata": {},
   "outputs": [],
   "source": [
    "from sklearn.metrics import f1_score\n",
    "\n",
    "# Making predictions \n",
    "def predict_labels(clf, features, target):\n",
    "    \n",
    "    # Starting the clock, making predictions, then stoping the clock\n",
    "    start = time()\n",
    "    y_pred = clf.predict(features)\n",
    "    end = time()\n",
    "    \n",
    "    # Printing results\n",
    "    print (\"Made predictions in seconds:\",end - start)\n",
    "    \n",
    "    # Returning F1 score and accuracy\n",
    "    return f1_score(target, y_pred, average=None), sum(target == y_pred) / float(len(y_pred))"
   ]
  },
  {
   "cell_type": "code",
   "execution_count": 28,
   "metadata": {},
   "outputs": [],
   "source": [
    "def train_predict(clf, X_train, y_train, X_test, y_test):\n",
    "    \n",
    "    # Indicating the classifier and the training set size\n",
    "    print (\"Training a {} using a training set size of {}. . .\".format(clf.__class__.__name__, len(X_train)))\n",
    "    \n",
    "    # Training the classifier\n",
    "    train_classifier(clf, X_train, y_train)\n",
    "    \n",
    "    # Printing the results of prediction for both training and testing set\n",
    "    f1, acc = predict_labels(clf, X_train, y_train)\n",
    "    print (\"===========================================\")\n",
    "    print (\"Indexes assesing methods for training set:\")\n",
    "    print (\"F1 score [Win  Draw  Defeat]:\", f1)\n",
    "    print (\"Accuracy:\", acc)\n",
    "    \n",
    "    print (\"===========================================\")\n",
    "    f1, acc = predict_labels(clf, X_test, y_test)\n",
    "    print (\"Indexes assesing methods for test set:\")\n",
    "    print (\"F1 score [Win  Draw  Defeat]:\", f1)\n",
    "    print (\"Accuracy:\", acc)"
   ]
  },
  {
   "cell_type": "markdown",
   "metadata": {},
   "source": [
    "# Training and making predictions - Linear Regression"
   ]
  },
  {
   "cell_type": "code",
   "execution_count": 29,
   "metadata": {},
   "outputs": [
    {
     "name": "stdout",
     "output_type": "stream",
     "text": [
      "Training a LogisticRegression using a training set size of 2736. . .\n",
      "Trained model in seconds: 0.10172796249389648\n",
      "Made predictions in seconds: 0.000997304916381836\n",
      "===========================================\n",
      "Indexes assesing methods for training set:\n",
      "F1 score [Win  Draw  Defeat]: [0.47175573 0.08273894 0.69633054]\n",
      "Accuracy: 0.5639619883040936\n",
      "===========================================\n",
      "Made predictions in seconds: 0.0\n",
      "Indexes assesing methods for test set:\n",
      "F1 score [Win  Draw  Defeat]: [0.48447205 0.16326531 0.71633238]\n",
      "Accuracy: 0.5657894736842105\n",
      "\n"
     ]
    }
   ],
   "source": [
    "clf_LR = LogisticRegression(random_state = 42)\n",
    "\n",
    "train_predict(clf_LR, X_train, y_train, X_test, y_test)\n",
    "print ('')"
   ]
  },
  {
   "cell_type": "markdown",
   "metadata": {},
   "source": [
    "# Training and making predictions - XGBoost"
   ]
  },
  {
   "cell_type": "code",
   "execution_count": 30,
   "metadata": {},
   "outputs": [
    {
     "name": "stdout",
     "output_type": "stream",
     "text": [
      "Training a XGBClassifier using a training set size of 2736. . .\n",
      "Trained model in seconds: 1.3404133319854736\n",
      "Made predictions in seconds: 0.025932788848876953\n",
      "===========================================\n",
      "Indexes assesing methods for training set:\n",
      "F1 score [Win  Draw  Defeat]: [0.9987013  1.         0.99925037]\n",
      "Accuracy: 0.9992690058479532\n",
      "===========================================\n",
      "Made predictions in seconds: 0.005983829498291016\n",
      "Indexes assesing methods for test set:\n",
      "F1 score [Win  Draw  Defeat]: [0.46632124 0.25396825 0.60207612]\n",
      "Accuracy: 0.4868421052631579\n",
      "\n"
     ]
    }
   ],
   "source": [
    "import xgboost as xgb\n",
    "\n",
    "clf_XGB = xgb.XGBClassifier(seed = 82)\n",
    "\n",
    "train_predict(clf_XGB, X_train, y_train, X_test, y_test)\n",
    "print ('')"
   ]
  },
  {
   "cell_type": "markdown",
   "metadata": {},
   "source": [
    "# Tunning - XGBoost"
   ]
  },
  {
   "cell_type": "code",
   "execution_count": 31,
   "metadata": {
    "scrolled": true
   },
   "outputs": [
    {
     "name": "stdout",
     "output_type": "stream",
     "text": [
      "Fitting 5 folds for each of 12 candidates, totalling 60 fits\n"
     ]
    },
    {
     "name": "stderr",
     "output_type": "stream",
     "text": [
      "[Parallel(n_jobs=1)]: Using backend SequentialBackend with 1 concurrent workers.\n",
      "[Parallel(n_jobs=1)]: Done  60 out of  60 | elapsed:   40.5s finished\n"
     ]
    },
    {
     "data": {
      "text/plain": [
       "{'colsample_bytree': 0.7,\n",
       " 'gamma': 0.4,\n",
       " 'learning_rate': 0.1,\n",
       " 'max_depth': 3,\n",
       " 'min_child_weight': 3,\n",
       " 'n_estimators': 100,\n",
       " 'subsample': 0.8}"
      ]
     },
     "execution_count": 31,
     "metadata": {},
     "output_type": "execute_result"
    }
   ],
   "source": [
    "from sklearn.model_selection import GridSearchCV\n",
    "from sklearn.metrics import make_scorer\n",
    "\n",
    "# Defining parameters we want to tune\n",
    "parameters = { 'learning_rate' : [0.5,0.8,0.1,0.15],\n",
    "               'n_estimators' : [80,100,120],\n",
    "               'max_depth': [3],\n",
    "               'min_child_weight': [3],\n",
    "               'gamma':[0.4],\n",
    "               'subsample' : [0.8],\n",
    "               'colsample_bytree' : [0.7] }\n",
    "\n",
    "# Initializing the classifier\n",
    "clf_XGB = xgb.XGBClassifier(seed=2)\n",
    "\n",
    "# Performing grid search on the classifier using the f1_scorer as the scoring method\n",
    "grid_obj = GridSearchCV(clf_XGB,\n",
    "                        scoring='f1_macro',\n",
    "                        param_grid=parameters,\n",
    "                        cv=5,\n",
    "                        verbose=1)\n",
    "\n",
    "grid_obj = grid_obj.fit(X_train,y_train)\n",
    "\n",
    "clf_XGB = grid_obj.best_estimator_\n",
    "\n",
    "# Printing out best found parameters\n",
    "grid_obj.best_params_"
   ]
  },
  {
   "cell_type": "markdown",
   "metadata": {},
   "source": [
    "# Making predictions after tunning - XGBoost"
   ]
  },
  {
   "cell_type": "code",
   "execution_count": 32,
   "metadata": {},
   "outputs": [
    {
     "name": "stdout",
     "output_type": "stream",
     "text": [
      "Made predictions in seconds: 0.0229647159576416\n",
      "Indexes assesing methods for training set:\n",
      "F1 score [Win  Draw  Defeat]: [0.55841293 0.27075351 0.734375  ]\n",
      "Accuracy: 0.6242690058479532\n"
     ]
    }
   ],
   "source": [
    "#Print the results of prediction for training set after parameter tuning\n",
    "f1, acc = predict_labels(clf_XGB, X_train, y_train)\n",
    "print (\"Indexes assesing methods for training set:\")\n",
    "print (\"F1 score [Win  Draw  Defeat]:\", f1)\n",
    "print (\"Accuracy:\", acc)"
   ]
  },
  {
   "cell_type": "code",
   "execution_count": 33,
   "metadata": {},
   "outputs": [
    {
     "name": "stdout",
     "output_type": "stream",
     "text": [
      "Made predictions in seconds: 0.03503227233886719\n",
      "Indexes assesing methods for test set:\n",
      "F1 score [Win  Draw  Defeat]: [0.51428571 0.24742268 0.7202381 ]\n",
      "Accuracy: 0.5855263157894737\n"
     ]
    }
   ],
   "source": [
    "#Print the results of prediction for testing set after parameter tuning\n",
    "f1, acc = predict_labels(clf_XGB, X_test, y_test)\n",
    "print (\"Indexes assesing methods for test set:\")\n",
    "print (\"F1 score [Win  Draw  Defeat]:\", f1)\n",
    "print (\"Accuracy:\", acc)"
   ]
  },
  {
   "cell_type": "code",
   "execution_count": 34,
   "metadata": {},
   "outputs": [
    {
     "data": {
      "text/plain": [
       "BetsH                          0.115913\n",
       "BetsA                          0.103876\n",
       "BetsD                          0.048266\n",
       "season                         0.039114\n",
       "defencePressure_home           0.038247\n",
       "chanceCreationPassing_away     0.037628\n",
       "buildUpPlayPassing_home        0.037466\n",
       "defenceTeamWidth_home          0.037082\n",
       "chanceCreationShooting_home    0.036664\n",
       "defenceAggression_home         0.036637\n",
       "defencePressure_away           0.036549\n",
       "buildUpPlaySpeed_home          0.035887\n",
       "chanceCreationShooting_away    0.035689\n",
       "points_away_team               0.034606\n",
       "chanceCreationCrossing_home    0.034311\n",
       "points_home_team               0.033969\n",
       "last_away_meetings             0.033492\n",
       "defenceAggression_away         0.032726\n",
       "buildUpPlayPassing_away        0.032689\n",
       "chanceCreationPassing_home     0.032574\n",
       "last_home_meetings             0.032516\n",
       "defenceTeamWidth_away          0.032023\n",
       "buildUpPlaySpeed_away          0.031584\n",
       "chanceCreationCrossing_away    0.030492\n",
       "dtype: float32"
      ]
     },
     "execution_count": 34,
     "metadata": {},
     "output_type": "execute_result"
    }
   ],
   "source": [
    "# Printing features importance in decreasing order\n",
    "feature_imp_xg = pd.Series(clf_XGB.feature_importances_,index=variables).sort_values(ascending=False)\n",
    "feature_imp_xg"
   ]
  },
  {
   "cell_type": "code",
   "execution_count": 35,
   "metadata": {},
   "outputs": [
    {
     "data": {
      "text/plain": [
       "<matplotlib.axes._subplots.AxesSubplot at 0x21d56221a08>"
      ]
     },
     "execution_count": 35,
     "metadata": {},
     "output_type": "execute_result"
    },
    {
     "data": {
      "image/png": "[encoded data removed]",
      "text/plain": [
       "<Figure size 432x288 with 1 Axes>"
      ]
     },
     "metadata": {
      "needs_background": "light"
     },
     "output_type": "display_data"
    }
   ],
   "source": [
    "import seaborn as sns\n",
    "%matplotlib inline\n",
    "\n",
    "# Plotting features importance\n",
    "sns.barplot(x=feature_imp_xg, y=feature_imp_xg.index)"
   ]
  },
  {
   "cell_type": "markdown",
   "metadata": {},
   "source": [
    "# Training and making predictions - Random Forest"
   ]
  },
  {
   "cell_type": "code",
   "execution_count": 36,
   "metadata": {},
   "outputs": [
    {
     "name": "stdout",
     "output_type": "stream",
     "text": [
      "Training a RandomForestClassifier using a training set size of 2736. . .\n",
      "Trained model in seconds: 0.7934269905090332\n",
      "Made predictions in seconds: 0.07775449752807617\n",
      "===========================================\n",
      "Indexes assesing methods for training set:\n",
      "F1 score [Win  Draw  Defeat]: [1. 1. 1.]\n",
      "Accuracy: 1.0\n",
      "===========================================\n",
      "Made predictions in seconds: 0.0329132080078125\n",
      "Indexes assesing methods for test set:\n",
      "F1 score [Win  Draw  Defeat]: [0.48275862 0.25862069 0.68553459]\n",
      "Accuracy: 0.5460526315789473\n",
      "\n"
     ]
    }
   ],
   "source": [
    "from sklearn.ensemble import RandomForestClassifier\n",
    "\n",
    "# Creating a Gaussian Classifier\n",
    "clf_RF=RandomForestClassifier(n_estimators=100)\n",
    "\n",
    "# Making predicitons\n",
    "train_predict(clf_RF, X_train, y_train, X_test, y_test)\n",
    "print ('')"
   ]
  },
  {
   "cell_type": "markdown",
   "metadata": {},
   "source": [
    "# Tunning - Random Forest"
   ]
  },
  {
   "cell_type": "code",
   "execution_count": 37,
   "metadata": {},
   "outputs": [
    {
     "name": "stdout",
     "output_type": "stream",
     "text": [
      "Fitting 5 folds for each of 54 candidates, totalling 270 fits\n"
     ]
    },
    {
     "name": "stderr",
     "output_type": "stream",
     "text": [
      "[Parallel(n_jobs=1)]: Using backend SequentialBackend with 1 concurrent workers.\n",
      "[Parallel(n_jobs=1)]: Done 270 out of 270 | elapsed:  4.6min finished\n"
     ]
    },
    {
     "data": {
      "text/plain": [
       "{'max_depth': 10,\n",
       " 'max_features': 'auto',\n",
       " 'min_samples_leaf': 45,\n",
       " 'n_estimators': 250,\n",
       " 'random_state': 42}"
      ]
     },
     "execution_count": 37,
     "metadata": {},
     "output_type": "execute_result"
    }
   ],
   "source": [
    "from sklearn.model_selection import RandomizedSearchCV\n",
    "from sklearn.model_selection import GridSearchCV\n",
    "\n",
    "# Defining parameters we want to tune\n",
    "parameters = { \n",
    "    'n_estimators': [250,300,350],\n",
    "    'max_features': ['auto','log2'],\n",
    "    'min_samples_leaf': [40,45,50],\n",
    "    'max_depth': [10,15,20],\n",
    "    'random_state': [42]\n",
    "}\n",
    "\n",
    "random_grid = GridSearchCV(clf_RF, parameters, cv = 5, verbose = 1)\n",
    "random_grid = random_grid.fit(X_train,y_train)\n",
    "\n",
    "clf_RF = random_grid.best_estimator_\n",
    "\n",
    "# Printing out best found parameters\n",
    "random_grid.best_params_"
   ]
  },
  {
   "cell_type": "markdown",
   "metadata": {},
   "source": [
    "# Making predictions after tunning - Random Forest"
   ]
  },
  {
   "cell_type": "code",
   "execution_count": 38,
   "metadata": {},
   "outputs": [
    {
     "name": "stdout",
     "output_type": "stream",
     "text": [
      "Made predictions in seconds: 0.09477949142456055\n",
      "Indexes assesing methods for training set:\n",
      "F1 score [Win  Draw  Defeat]: [0.50672646 0.03697997 0.70588235]\n",
      "Accuracy: 0.5778508771929824\n"
     ]
    }
   ],
   "source": [
    "# Printing the results of prediction for training set after parameter tuning\n",
    "f1, acc = predict_labels(clf_RF, X_train, y_train)\n",
    "print (\"Indexes assesing methods for training set:\")\n",
    "print (\"F1 score [Win  Draw  Defeat]:\", f1)\n",
    "print (\"Accuracy:\", acc)"
   ]
  },
  {
   "cell_type": "code",
   "execution_count": 39,
   "metadata": {},
   "outputs": [
    {
     "name": "stdout",
     "output_type": "stream",
     "text": [
      "Made predictions in seconds: 0.037866830825805664\n",
      "Indexes assesing methods for test set:\n",
      "F1 score [Win  Draw  Defeat]: [0.5        0.02702703 0.70984456]\n",
      "Accuracy: 0.5756578947368421\n"
     ]
    }
   ],
   "source": [
    "# Printing the results of prediction for testing set after parameter tuning\n",
    "f1, acc = predict_labels(clf_RF, X_test, y_test)\n",
    "print (\"Indexes assesing methods for test set:\")\n",
    "print (\"F1 score [Win  Draw  Defeat]:\", f1)\n",
    "print (\"Accuracy:\", acc)"
   ]
  },
  {
   "cell_type": "code",
   "execution_count": 40,
   "metadata": {},
   "outputs": [
    {
     "data": {
      "text/plain": [
       "BetsH                          0.285631\n",
       "BetsA                          0.221309\n",
       "BetsD                          0.096003\n",
       "defencePressure_home           0.033120\n",
       "buildUpPlayPassing_home        0.032942\n",
       "last_home_meetings             0.027949\n",
       "buildUpPlayPassing_away        0.026575\n",
       "chanceCreationPassing_away     0.025036\n",
       "defencePressure_away           0.023710\n",
       "defenceTeamWidth_away          0.022313\n",
       "last_away_meetings             0.020762\n",
       "defenceTeamWidth_home          0.020419\n",
       "chanceCreationShooting_home    0.019732\n",
       "buildUpPlaySpeed_away          0.018641\n",
       "buildUpPlaySpeed_home          0.016906\n",
       "chanceCreationShooting_away    0.016394\n",
       "chanceCreationCrossing_home    0.014665\n",
       "chanceCreationPassing_home     0.014393\n",
       "defenceAggression_home         0.013763\n",
       "chanceCreationCrossing_away    0.013368\n",
       "season                         0.012457\n",
       "defenceAggression_away         0.009173\n",
       "points_home_team               0.008657\n",
       "points_away_team               0.006081\n",
       "dtype: float64"
      ]
     },
     "execution_count": 40,
     "metadata": {},
     "output_type": "execute_result"
    }
   ],
   "source": [
    "# Printing features importance in decreasing order\n",
    "feature_imp = pd.Series(clf_RF.feature_importances_,index=variables).sort_values(ascending=False)\n",
    "feature_imp"
   ]
  },
  {
   "cell_type": "code",
   "execution_count": 41,
   "metadata": {
    "scrolled": false
   },
   "outputs": [
    {
     "data": {
      "text/plain": [
       "<matplotlib.axes._subplots.AxesSubplot at 0x21d56becb08>"
      ]
     },
     "execution_count": 41,
     "metadata": {},
     "output_type": "execute_result"
    },
    {
     "data": {
      "image/png": "[encoded data removed]",
      "text/plain": [
       "<Figure size 432x288 with 1 Axes>"
      ]
     },
     "metadata": {
      "needs_background": "light"
     },
     "output_type": "display_data"
    }
   ],
   "source": [
    "import seaborn as sns\n",
    "%matplotlib inline\n",
    "# Plotting features importance\n",
    "sns.barplot(x=feature_imp, y=feature_imp.index)"
   ]
  },
  {
   "cell_type": "markdown",
   "metadata": {},
   "source": [
    "# Time for some testing and your activity :)"
   ]
  },
  {
   "cell_type": "code",
   "execution_count": 42,
   "metadata": {
    "scrolled": true
   },
   "outputs": [],
   "source": [
    "from tabulate import tabulate\n",
    "\n",
    "def individual_examples_testing(first_team, second_team):\n",
    "    test_example = all.loc[all['season'].isin([7]) & all['team_long_name_home'].isin([first_team, second_team]) & all['team_long_name_away'].isin([first_team, second_team])]\n",
    "    X_test_example = test_example[variables]\n",
    "    y_test_example = test_example['result']\n",
    "    \n",
    "    X_test_example = sc.transform(X_test_example)\n",
    "    \n",
    "    y_pred_LR = clf_LR.predict(X_test_example)\n",
    "    y_pred_XGB = clf_XGB.predict(X_test_example)\n",
    "    y_pred_RF = clf_RF.predict(X_test_example)\n",
    "    \n",
    "    display(test_example[['team_long_name_home', 'home_team_goal', 'away_team_goal', 'team_long_name_away']])\n",
    "    \n",
    "    print(tabulate([['Actual result',list(y_test_example)], ['LR', y_pred_LR], ['XGB', y_pred_XGB], ['RF', y_pred_RF]], headers=['','Predictions'], tablefmt='orgtbl'))\n",
    "    \n",
    "#     return test_example['result'], y_pred_LR, y_pred_XGB, y_pred_RF"
   ]
  },
  {
   "cell_type": "markdown",
   "metadata": {},
   "source": [
    "# Possible teams:\n",
    "### - FC Barcelona\n",
    "### - Real Madrid CF\n",
    "### - Granada CF\n",
    "### - Real Betis Balompié\n",
    "### - Levante UD"
   ]
  },
  {
   "cell_type": "code",
   "execution_count": 43,
   "metadata": {
    "scrolled": true
   },
   "outputs": [
    {
     "data": {
      "text/html": [
       "<div>\n",
       "<style scoped>\n",
       "    .dataframe tbody tr th:only-of-type {\n",
       "        vertical-align: middle;\n",
       "    }\n",
       "\n",
       "    .dataframe tbody tr th {\n",
       "        vertical-align: top;\n",
       "    }\n",
       "\n",
       "    .dataframe thead th {\n",
       "        text-align: right;\n",
       "    }\n",
       "</style>\n",
       "<table border=\"1\" class=\"dataframe\">\n",
       "  <thead>\n",
       "    <tr style=\"text-align: right;\">\n",
       "      <th></th>\n",
       "      <th>team_long_name_home</th>\n",
       "      <th>home_team_goal</th>\n",
       "      <th>away_team_goal</th>\n",
       "      <th>team_long_name_away</th>\n",
       "    </tr>\n",
       "  </thead>\n",
       "  <tbody>\n",
       "    <tr>\n",
       "      <th>2987</th>\n",
       "      <td>Real Madrid CF</td>\n",
       "      <td>1</td>\n",
       "      <td>0</td>\n",
       "      <td>Granada CF</td>\n",
       "    </tr>\n",
       "    <tr>\n",
       "      <th>2817</th>\n",
       "      <td>Granada CF</td>\n",
       "      <td>1</td>\n",
       "      <td>2</td>\n",
       "      <td>Real Madrid CF</td>\n",
       "    </tr>\n",
       "  </tbody>\n",
       "</table>\n",
       "</div>"
      ],
      "text/plain": [
       "     team_long_name_home  home_team_goal  away_team_goal team_long_name_away\n",
       "2987      Real Madrid CF               1               0          Granada CF\n",
       "2817          Granada CF               1               2      Real Madrid CF"
      ]
     },
     "metadata": {},
     "output_type": "display_data"
    },
    {
     "name": "stdout",
     "output_type": "stream",
     "text": [
      "|               | Predictions       |\n",
      "|---------------+-------------------|\n",
      "| Actual result | ['Win', 'Defeat'] |\n",
      "| LR            | ['Win' 'Defeat']  |\n",
      "| XGB           | ['Win' 'Defeat']  |\n",
      "| RF            | ['Win' 'Defeat']  |\n"
     ]
    }
   ],
   "source": [
    "first_team = 'Real Madrid CF'\n",
    "second_team = 'Granada CF'\n",
    "\n",
    "individual_examples_testing(first_team, second_team)"
   ]
  }
 ],
 "metadata": {
  "kernelspec": {
   "display_name": "Python 3",
   "language": "python",
   "name": "python3"
  },
  "language_info": {
   "codemirror_mode": {
    "name": "ipython",
    "version": 3
   },
   "file_extension": ".py",
   "mimetype": "text/x-python",
   "name": "python",
   "nbconvert_exporter": "python",
   "pygments_lexer": "ipython3",
   "version": "3.7.6"
  }
 },
 "nbformat": 4,
 "nbformat_minor": 2
}
